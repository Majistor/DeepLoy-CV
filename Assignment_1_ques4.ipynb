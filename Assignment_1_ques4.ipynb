{
 "cells": [
  {
   "cell_type": "code",
   "id": "initial_id",
   "metadata": {
    "collapsed": true,
    "ExecuteTime": {
     "end_time": "2024-12-18T18:58:18.577526Z",
     "start_time": "2024-12-18T18:58:18.447678Z"
    }
   },
   "source": [
    "from PIL import Image\n",
    "import numpy as np"
   ],
   "outputs": [],
   "execution_count": 1
  },
  {
   "metadata": {
    "ExecuteTime": {
     "end_time": "2024-12-18T19:02:15.955044Z",
     "start_time": "2024-12-18T19:02:15.680518Z"
    }
   },
   "cell_type": "code",
   "source": [
    "\n",
    "def is_flag_of_indonesia_or_poland(image_path):\n",
    "    # Load and preprocess the image\n",
    "    image = Image.open(image_path).convert(\"RGB\").resize((400, 300))\n",
    "    pixels = np.array(image)\n",
    "    height, width, _ = pixels.shape\n",
    "\n",
    "    # Color detection functions\n",
    "    def is_red(pixel):\n",
    "        r, g, b = pixel\n",
    "        return r > 150 and g < 100 and b < 100\n",
    "\n",
    "    def is_white(pixel):\n",
    "        r, g, b = pixel\n",
    "        return r > 200 and g > 200 and b > 200\n",
    "\n",
    "    # Create masks for red and white pixels\n",
    "    red_mask = np.array([[is_red(p) for p in row] for row in pixels])\n",
    "    white_mask = np.array([[is_white(p) for p in row] for row in pixels])\n",
    "\n",
    "    # Combine masks and determine the bounding box\n",
    "    combined_mask = red_mask | white_mask\n",
    "    rows, cols = np.where(combined_mask)\n",
    "    if len(rows) == 0 or len(cols) == 0:\n",
    "        return \"Neither\"\n",
    "\n",
    "    # Crop the flag region\n",
    "    top, bottom = min(rows), max(rows)\n",
    "    left, right = min(cols), max(cols)\n",
    "    cropped_flag = image.crop((left, top, right, bottom)).resize((200, 100))\n",
    "    flag_pixels = np.array(cropped_flag)\n",
    "\n",
    "    # Analyze color distribution in halves\n",
    "    mid = flag_pixels.shape[0] // 2\n",
    "    top_half, bottom_half = flag_pixels[:mid], flag_pixels[mid:]\n",
    "\n",
    "    def count_colors(section):\n",
    "        red_count = sum(is_red(pixel) for row in section for pixel in row)\n",
    "        white_count = sum(is_white(pixel) for row in section for pixel in row)\n",
    "        return red_count, white_count\n",
    "\n",
    "    red_top, white_top = count_colors(top_half)\n",
    "    red_bottom, white_bottom = count_colors(bottom_half)\n",
    "\n",
    "    # Determine flag type\n",
    "    if red_top > white_top and white_bottom > red_bottom:\n",
    "        return \"Indonesia\"\n",
    "    elif white_top > red_top and red_bottom > white_bottom:\n",
    "        return \"Poland\"\n",
    "    else:\n",
    "        return \"Neither\"\n",
    "\n",
    "# Example usage\n",
    "result = is_flag_of_indonesia_or_poland('/home/majistor/Desktop/flag.jpg')\n",
    "print(result)"
   ],
   "id": "6b783c354ea6a99a",
   "outputs": [
    {
     "name": "stdout",
     "output_type": "stream",
     "text": [
      "Indonesia\n"
     ]
    }
   ],
   "execution_count": 4
  }
 ],
 "metadata": {
  "kernelspec": {
   "display_name": "Python 3",
   "language": "python",
   "name": "python3"
  },
  "language_info": {
   "codemirror_mode": {
    "name": "ipython",
    "version": 2
   },
   "file_extension": ".py",
   "mimetype": "text/x-python",
   "name": "python",
   "nbconvert_exporter": "python",
   "pygments_lexer": "ipython2",
   "version": "2.7.6"
  }
 },
 "nbformat": 4,
 "nbformat_minor": 5
}
